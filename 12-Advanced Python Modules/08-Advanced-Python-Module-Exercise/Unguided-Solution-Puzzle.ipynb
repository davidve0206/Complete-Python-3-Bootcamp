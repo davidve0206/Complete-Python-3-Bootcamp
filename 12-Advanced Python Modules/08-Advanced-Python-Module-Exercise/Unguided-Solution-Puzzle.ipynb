{
 "cells": [
  {
   "cell_type": "code",
   "execution_count": 7,
   "metadata": {},
   "outputs": [],
   "source": [
    "import shutil\n",
    "import os\n",
    "import re"
   ]
  },
  {
   "cell_type": "code",
   "execution_count": 4,
   "metadata": {},
   "outputs": [],
   "source": [
    "shutil.unpack_archive(\"unzip_me_for_instructions.zip\",)"
   ]
  },
  {
   "cell_type": "code",
   "execution_count": 6,
   "metadata": {},
   "outputs": [
    {
     "name": "stdout",
     "output_type": "stream",
     "text": [
      "Good work on unzipping the file!\n",
      "You should now see 5 folders, each with a lot of random .txt files.\n",
      "Within one of these text files is a telephone number formated ###-###-#### \n",
      "Use the Python os module and regular expressions to iterate through each file, open it, and search for a telephone number.\n",
      "Good luck!\n"
     ]
    }
   ],
   "source": [
    "with open(\"extracted_content/Instructions.txt\", \"r\") as instruction_file:\n",
    "    print(instruction_file.read())"
   ]
  },
  {
   "cell_type": "code",
   "execution_count": 59,
   "metadata": {},
   "outputs": [
    {
     "name": "stdout",
     "output_type": "stream",
     "text": [
      "['719-266-2837']\n"
     ]
    }
   ],
   "source": [
    "path_walk = os.walk(\"./extracted_content\")\n",
    "\n",
    "for (root,dirs,files) in path_walk:\n",
    "        for file in files:\n",
    "            path = str(os.path.join(root,file))\n",
    "            with open(path, \"r\") as text:\n",
    "                results = re.findall(r\"\\d{3}-\\d{3}-\\d{4}\", text.read())\n",
    "                if results != []:\n",
    "                    print(results)"
   ]
  }
 ],
 "metadata": {
  "kernelspec": {
   "display_name": "base",
   "language": "python",
   "name": "python3"
  },
  "language_info": {
   "codemirror_mode": {
    "name": "ipython",
    "version": 3
   },
   "file_extension": ".py",
   "mimetype": "text/x-python",
   "name": "python",
   "nbconvert_exporter": "python",
   "pygments_lexer": "ipython3",
   "version": "3.11.3"
  },
  "orig_nbformat": 4
 },
 "nbformat": 4,
 "nbformat_minor": 2
}
