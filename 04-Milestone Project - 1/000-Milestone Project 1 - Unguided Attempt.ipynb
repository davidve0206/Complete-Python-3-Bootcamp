{
 "cells": [
  {
   "cell_type": "code",
   "execution_count": 104,
   "metadata": {},
   "outputs": [],
   "source": [
    "from IPython.display import clear_output"
   ]
  },
  {
   "cell_type": "code",
   "execution_count": 105,
   "metadata": {},
   "outputs": [],
   "source": [
    "board_template = list(range(0,10))\n",
    "\n",
    "def print_board(board_state):\n",
    "    print(board_state[6:9])\n",
    "    print(board_state[3:6])\n",
    "    print(board_state[0:3])"
   ]
  },
  {
   "cell_type": "code",
   "execution_count": 106,
   "metadata": {},
   "outputs": [],
   "source": [
    "def select_p1_market():\n",
    "    valid_markers = ['x', 'o']\n",
    "    p1_marker = ''\n",
    "    while p1_marker not in valid_markers:\n",
    "        p1_marker = input(\"Player 1, please select 'x' or 'o' as your marker: \").lower()\n",
    "        if p1_marker not in valid_markers:\n",
    "            print(\"Please select a valid marker.\")\n",
    "        else:\n",
    "            valid_markers.remove(p1_marker)\n",
    "            return p1_marker, valid_markers[0]\n",
    "        "
   ]
  },
  {
   "cell_type": "code",
   "execution_count": 107,
   "metadata": {},
   "outputs": [],
   "source": [
    "def place_marker(board_state, player_num, marker):\n",
    "    #function takes a board state and returns a new board with the marker in place \n",
    "    \n",
    "    placement = ''\n",
    "    valid_placement = False\n",
    "\n",
    "    while placement.isdigit() == False or valid_placement == False:\n",
    "        print('This is the current state of the board:')\n",
    "        print_board(board_state)\n",
    "        placement = input(f\"Player {player_num}, please select a number from 1 to 9 to place your marker: \")\n",
    "        if placement.isdigit():\n",
    "            if int(placement) in range(1,10) and board_state[int(placement) - 1] == ' ':\n",
    "                valid_placement = True\n",
    "            else:\n",
    "                valid_placement = False\n",
    "                print('This is not a valid placement, please select a new placement.')\n",
    "        else:\n",
    "            print('You did not select a digit, please select again.')\n",
    "    \n",
    "    board_state[int(placement) - 1] = marker\n",
    "    return board_state\n",
    "    "
   ]
  },
  {
   "cell_type": "code",
   "execution_count": 108,
   "metadata": {},
   "outputs": [],
   "source": [
    "def check_winner(board_state, p1_marker, p2_marker):\n",
    "    winning_indexes = [slice(0,3), slice(3,6), slice(6,9), slice(0,9,3), slice(1,9,3), slice(2,9,3), slice(0,9,4), slice(2,8,2)]\n",
    "    for i in winning_indexes:\n",
    "        if board_state[i] == [p1_marker] * 3:\n",
    "            clear_output()\n",
    "            print_board(board_state)\n",
    "            print('Player 1 wins the game!')\n",
    "            return True \n",
    "        elif board_state[i] == [p2_marker] * 3:\n",
    "            clear_output()\n",
    "            print_board(board_state)\n",
    "            print('Player 2 wins the game!')\n",
    "            return True\n",
    "    if ' ' in board_state:\n",
    "        pass\n",
    "    else:\n",
    "        clear_output()\n",
    "        print_board(board_state)\n",
    "        print(\"It's a tie!\")\n",
    "        return True"
   ]
  },
  {
   "cell_type": "code",
   "execution_count": 109,
   "metadata": {},
   "outputs": [],
   "source": [
    "def check_restart():\n",
    "    valid_inputs = ['y', 'n']\n",
    "    restart = ''\n",
    "    while restart not in valid_inputs:\n",
    "        restart = input(\"Do you want to start a new game? ('y' or 'n'): \").lower()\n",
    "        if restart not in valid_inputs:\n",
    "            print(\"Please select a valid answer.\")\n",
    "        else:\n",
    "            return restart == 'y'"
   ]
  },
  {
   "cell_type": "code",
   "execution_count": 110,
   "metadata": {},
   "outputs": [],
   "source": [
    "def play_tick_tack_toe():\n",
    "    clear_output()\n",
    "    # creates an empty board, asks player one to select his marker and then starts asking for positions for each player until a win condition is met\n",
    "    board = [' '] * 9\n",
    "    game_over = False\n",
    "    p1_marker, p2_marker = select_p1_market()\n",
    "    round_counter = 0\n",
    "\n",
    "    while not game_over:\n",
    "        round_counter += 1\n",
    "        clear_output()\n",
    "        if round_counter % 2 == 0:\n",
    "            board = place_marker(board, 2, p2_marker)\n",
    "        else:\n",
    "            board = place_marker(board, 1, p1_marker)\n",
    "        game_over = check_winner(board, p1_marker, p2_marker)\n",
    "\n",
    "    if check_restart(): play_tick_tack_toe()\n",
    "    "
   ]
  },
  {
   "cell_type": "code",
   "execution_count": 112,
   "metadata": {},
   "outputs": [
    {
     "name": "stdout",
     "output_type": "stream",
     "text": [
      "[' ', ' ', ' ']\n",
      "['x', 'x', ' ']\n",
      "['o', 'o', 'o']\n",
      "Player 1 wins the game!\n"
     ]
    }
   ],
   "source": [
    "play_tick_tack_toe()"
   ]
  }
 ],
 "metadata": {
  "kernelspec": {
   "display_name": "base",
   "language": "python",
   "name": "python3"
  },
  "language_info": {
   "codemirror_mode": {
    "name": "ipython",
    "version": 3
   },
   "file_extension": ".py",
   "mimetype": "text/x-python",
   "name": "python",
   "nbconvert_exporter": "python",
   "pygments_lexer": "ipython3",
   "version": "3.11.3"
  },
  "orig_nbformat": 4
 },
 "nbformat": 4,
 "nbformat_minor": 2
}
